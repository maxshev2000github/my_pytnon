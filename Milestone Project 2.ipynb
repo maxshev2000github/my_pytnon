{
 "cells": [
  {
   "cell_type": "code",
   "execution_count": 16,
   "metadata": {},
   "outputs": [
    {
     "name": "stdout",
     "output_type": "stream",
     "text": [
      "Player Player1 has 51 cards.\n",
      "Seven of Diamonds\n",
      "{1, 2, 3} [2, 3, 2, 3, 1, 2]\n"
     ]
    }
   ],
   "source": [
    "import random\n",
    "suits = ('Hearts', 'Diamonds', 'Spades', 'Clubs')\n",
    "ranks = ('Two', 'Three', 'Four', 'Five', 'Six', 'Seven', 'Eight', 'Nine', 'Ten', 'Jack', 'Queen', 'King', 'Ace')\n",
    "values = {'Two':2, 'Three':3, 'Four':4, 'Five':5, 'Six':6, 'Seven':7, 'Eight':8,\n",
    "          'Nine':9, 'Ten':10, 'Jack':11, 'Queen':12, 'King':13, 'Ace':14}\n",
    "\n",
    "class Card:\n",
    "    \n",
    "    def __init__(self,suit,rank) -> None:\n",
    "        self.suit = suit\n",
    "        self.rank = rank\n",
    "        self.value = values[rank]\n",
    "\n",
    "    def __str__(self):\n",
    "        return self.rank + \" of \" + self.suit\n",
    "    \n",
    "class Deck:\n",
    "\n",
    "    def __init__(self) -> None:\n",
    "        self.all_cards =[]\n",
    "        for suit in suits:\n",
    "            for rank in ranks:\n",
    "                self.all_cards.append(Card(suit,rank))\n",
    "    def shuffle(self):\n",
    "        random.shuffle(self.all_cards)\n",
    "\n",
    "    def deal_one(self):\n",
    "        return self.all_cards.pop()\n",
    "\n",
    "\n",
    "class Player:\n",
    "    \n",
    "    def __init__(self,name):\n",
    "        self.name = name\n",
    "        # A new player has no cards\n",
    "        self.all_cards = [] \n",
    "        \n",
    "    def remove_one(self):\n",
    "        # Note we remove one card from the list of all_cards\n",
    "        # We state 0 to remove from the \"top\" of the deck\n",
    "        # We'll imagine index -1 as the bottom of the deck\n",
    "        return self.all_cards.pop(0)\n",
    "    \n",
    "    def add_cards(self,new_cards):\n",
    "        if type(new_cards) == type([]):\n",
    "            self.all_cards.extend(new_cards)\n",
    "        else:\n",
    "            self.all_cards.append(new_cards)\n",
    "    \n",
    "    \n",
    "    def __str__(self):\n",
    "        return f'Player {self.name} has {len(self.all_cards)} cards.'\n",
    "    \n",
    "new_deck = Deck()\n",
    "player1 = Player('Player1')\n",
    "new_deck.shuffle()\n",
    "player1.add_cards(new_deck.all_cards)\n",
    "my_card = player1.remove_one()\n",
    "\n",
    "print(player1)\n",
    "print(my_card)\n",
    "\n",
    "x = [1,2]\n",
    "y = [2,3]\n",
    "\n",
    "y += y \n",
    "y += x\n",
    "z = set(y)\n",
    "print(z,y)\n",
    "    "
   ]
  },
  {
   "cell_type": "code",
   "execution_count": 20,
   "metadata": {},
   "outputs": [
    {
     "name": "stdout",
     "output_type": "stream",
     "text": [
      "3 2\n",
      "3 3\n",
      "5 2\n",
      "5 3\n",
      "5 3 [2, 3]\n",
      "7 2\n",
      "7 3\n",
      "7 5\n",
      "7 5 [2, 3, 5]\n",
      "9 2\n",
      "9 3\n",
      "11 2\n",
      "11 3\n",
      "11 5\n",
      "11 7\n",
      "11 7 [2, 3, 5, 7]\n",
      "13 2\n",
      "13 3\n",
      "13 5\n",
      "13 7\n",
      "13 11\n",
      "13 11 [2, 3, 5, 7, 11]\n",
      "15 2\n",
      "15 3\n",
      "17 2\n",
      "17 3\n",
      "17 5\n",
      "17 7\n",
      "17 11\n",
      "17 13\n",
      "17 13 [2, 3, 5, 7, 11, 13]\n",
      "[2, 3, 5, 7, 11, 13, 17]\n"
     ]
    },
    {
     "data": {
      "text/plain": [
       "17"
      ]
     },
     "execution_count": 20,
     "metadata": {},
     "output_type": "execute_result"
    }
   ],
   "source": [
    "def check_prime(num):\n",
    "    primes =[2,3]\n",
    "    n=3\n",
    "    while(n<=num):\n",
    "        \n",
    "        for i in primes:\n",
    "            print(n,i)\n",
    "            if n%i==0:\n",
    "                n=n+2\n",
    "                break\n",
    "        else:\n",
    "            print(n,i,primes)\n",
    "            primes.append(n)\n",
    "            n=n+2\n",
    "\n",
    "    print(primes)\n",
    "    return primes[-1]\n",
    "\n",
    "check_prime(17)\n"
   ]
  }
 ],
 "metadata": {
  "kernelspec": {
   "display_name": "Python 3",
   "language": "python",
   "name": "python3"
  },
  "language_info": {
   "codemirror_mode": {
    "name": "ipython",
    "version": 3
   },
   "file_extension": ".py",
   "mimetype": "text/x-python",
   "name": "python",
   "nbconvert_exporter": "python",
   "pygments_lexer": "ipython3",
   "version": "3.11.4"
  },
  "orig_nbformat": 4
 },
 "nbformat": 4,
 "nbformat_minor": 2
}
